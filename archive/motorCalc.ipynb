{
 "cells": [
  {
   "cell_type": "markdown",
   "metadata": {},
   "source": [
    " # Jason's honours project code\n",
    " ## Motor optimisation part\n",
    " MIGRATED TO MOTORCALC_2, WHICH OPTIMISES FOR GIVEN FORCE OUTPUT"
   ]
  },
  {
   "cell_type": "code",
   "execution_count": 2,
   "metadata": {
    "ExecuteTime": {
     "end_time": "2019-06-25T04:17:49.241573Z",
     "start_time": "2019-06-25T04:17:49.231898Z"
    }
   },
   "outputs": [],
   "source": [
    "import numpy as np\n",
    "from scipy.constants import mu_0\n",
    "from ipywidgets import interact, interactive, fixed, interact_manual\n",
    "import ipywidgets as widgets\n",
    "from PIL import Image, ImageDraw, ImageColor\n",
    "import matplotlib.pyplot as plt"
   ]
  },
  {
   "cell_type": "code",
   "execution_count": 3,
   "metadata": {
    "ExecuteTime": {
     "end_time": "2019-06-25T04:17:49.269834Z",
     "start_time": "2019-06-25T04:17:49.248368Z"
    }
   },
   "outputs": [],
   "source": [
    "def layercalc(layers,r_core,r_tube_out,r_tube_in,l_connector,turns_in_field,turns_total,rho_wire,I_max,flux_w_gap):\n",
    "    # Loop through every layer\n",
    "    R_ttl = 0\n",
    "    V_ttl = 0\n",
    "    force_ttl = 0\n",
    "    l_ttl = 0  \n",
    "    for layer in range(1,layers+1):\n",
    "        # length of wire in this layer + in this layer & in field\n",
    "        l_in_field_this = np.pi*(r_core+layer*r_tube_out*2)*2*turns_in_field\n",
    "        l_this = np.pi*(r_core+layer*r_tube_out*2)*2*turns_total\n",
    "        l_ttl += l_this\n",
    "        \n",
    "        # Resistance and voltage from powering wires in this layer\n",
    "        R_this = l_this/(np.pi*r_tube_in**2)/rho_wire\n",
    "        V_this = R_this * I_max\n",
    "        R_ttl += R_this\n",
    "        V_ttl += V_this\n",
    "        \n",
    "        # Area over which the flux will be spread, at the distance of this layer\n",
    "        r_at_wire = r_core + layer*2*r_tube_out - r_tube_out\n",
    "        A_field_action = 2*np.pi*r_at_wire*l_connector\n",
    "        \n",
    "        # Field acting on this layer of wire\n",
    "        field_over_gap = flux_w_gap/A_field_action\n",
    "        \n",
    "        # Force = BIL\n",
    "        force_this = field_over_gap*I_max*l_in_field_this\n",
    "        force_ttl += force_this\n",
    "\n",
    "        print(\"Force at layer {}: {:.4f} N\".format(layer,force_this))\n",
    "    power_ttl = I_max * V_ttl\n",
    "    print(\"Total length of tube: {} m\".format(l_ttl))\n",
    "    print(\"Total power: {} W\".format(power_ttl))\n",
    "    print(\"Total Force: {} N\".format(force_ttl))\n",
    "    print(\"Effectivness: {} N/sqrt(W)\".format(force_ttl/np.sqrt(power_ttl)))"
   ]
  },
  {
   "cell_type": "code",
   "execution_count": 4,
   "metadata": {
    "ExecuteTime": {
     "end_time": "2019-06-25T04:17:49.321623Z",
     "start_time": "2019-06-25T04:17:49.273005Z"
    }
   },
   "outputs": [],
   "source": [
    "def motorCalc(r_tube_in_mm, r_tube_thick_mm, l_core_mm, r_core_mm, l_connector_mm, extra_gap_mm, layers, I_max):    \n",
    "    # Things that aren't easily changed\n",
    "    Br_core = 1.2\n",
    "    rho_wire = 2.3e6\n",
    "    V_max = 12\n",
    "    l_max_tube = 4.5\n",
    "    l_plunger = 0.005\n",
    "    thickness_shell = 0.0025\n",
    "    distance_rg2 = 0.001\n",
    "    rel_perm_steel = 2000\n",
    "    rel_perm_neo = 1.05\n",
    "    rel_perm_air = 1\n",
    "    \n",
    "    # Convert back to m - the really small values don't work well with the ipython interactive widget\n",
    "    r_tube_in = r_tube_in_mm/1000\n",
    "    r_tube_out = r_tube_in + r_tube_thick_mm/1000\n",
    "    l_core = l_core_mm/1000\n",
    "    r_core = r_core_mm/1000 \n",
    "    l_connector =l_connector_mm/1000\n",
    "    extra_gap = extra_gap_mm/1000\n",
    "    \n",
    "    # Physical dimensions that can be calculated directly from known\n",
    "    r_shell_in = r_core+r_tube_out*layers+extra_gap\n",
    "    r_shell_out = r_shell_in + thickness_shell\n",
    "    r_plunger = r_shell_in - distance_rg2\n",
    "    \n",
    "    # Electromagneticmotive force calculation - zero reluctance circuit\n",
    "    A_cross_magnet = np.pi*r_core**2\n",
    "    print(\"A_cross_magnet: {} m2\".format(A_cross_magnet))\n",
    "    print(\"l_core: {} m\".format(l_core))\n",
    "    \n",
    "    flux_rg0 = A_cross_magnet * Br_core\n",
    "    rM_m = l_core/(A_cross_magnet*rel_perm_neo) # massive?\n",
    "    emmf = flux_rg0 * rM_m\n",
    "    print(\"emmf: {}\".format(emmf))\n",
    "    \n",
    "    # Reluctance in each of the gaps + total\n",
    "    rM_g1 = np.log(r_shell_in/r_core)/(2*np.pi*l_connector*rel_perm_neo)\n",
    "    rM_g2 = np.log(r_shell_in/r_plunger)/(2*np.pi*l_plunger*rel_perm_neo)\n",
    "    rM_ttl = rM_m+rM_g1+rM_g2\n",
    "    print(\"rg1: {:.4f}\\nrg2: {:.4f}\\nrTtl: {:.4f}\".format(rM_g1,rM_g2,rM_ttl))\n",
    "    \n",
    "    # Magnetic flux in circuit\n",
    "    flux_w_gap = emmf / rM_ttl\n",
    "    print(\"flux in circuit: {} Wb\".format(flux_w_gap))\n",
    "    \n",
    "    # Turns of wire - same regardless of layer\n",
    "    turns_in_field = l_connector/(r_tube_out*2)\n",
    "    turns_total = np.floor((l_core+l_connector)/(2*r_tube_out))\n",
    "    \n",
    "    layercalc(layers,r_core,r_tube_out,r_tube_in,l_connector,turns_in_field,turns_total,rho_wire,I_max,flux_w_gap)\n",
    "    \n",
    "    # Add sketch - automated probably\n",
    "    \n",
    "    # Figure out how to choose current - probably something that doesn't melt - how hot?\n",
    "    # 9 N - Goal - Simran - Remind to calculate displacement\n",
    "    \n",
    "    # Also what if liquid in wire is flowing? Flow resistance\n",
    "    # Bryan is not optimistic\n",
    "    # Two wires wound in same direction, flow in opposite directions.\n",
    "    # Pool on one side, connected on other. One node in pool, one on connection.\n",
    "    # Do calculations to see fesibility\n",
    "    \n",
    "    # Investigate other cooling methods?"
   ]
  },
  {
   "cell_type": "code",
   "execution_count": 5,
   "metadata": {
    "ExecuteTime": {
     "end_time": "2019-06-25T04:17:49.656365Z",
     "start_time": "2019-06-25T04:17:49.326205Z"
    }
   },
   "outputs": [
    {
     "data": {
      "application/vnd.jupyter.widget-view+json": {
       "model_id": "7bc99cd2c9aa4f3e8610332acd1a3ec9",
       "version_major": 2,
       "version_minor": 0
      },
      "text/plain": [
       "interactive(children=(FloatSlider(value=0.75, description='r_tube_in_mm', max=2.25, min=-0.75), FloatSlider(va…"
      ]
     },
     "metadata": {},
     "output_type": "display_data"
    },
    {
     "data": {
      "text/plain": [
       "<function __main__.motorCalc(r_tube_in_mm, r_tube_thick_mm, l_core_mm, r_core_mm, l_connector_mm, extra_gap_mm, layers, I_max)>"
      ]
     },
     "execution_count": 5,
     "metadata": {},
     "output_type": "execute_result"
    }
   ],
   "source": [
    "interact(motorCalc,r_tube_in_mm=0.75,r_tube_thick_mm=0.8,l_core_mm=50,r_core_mm=20,l_connector_mm=4,extra_gap_mm=0,I_max = 5,layers=3)"
   ]
  },
  {
   "cell_type": "code",
   "execution_count": 8,
   "metadata": {
    "ExecuteTime": {
     "end_time": "2019-06-25T04:18:54.313208Z",
     "start_time": "2019-06-25T04:18:53.234295Z"
    }
   },
   "outputs": [
    {
     "data": {
      "text/plain": [
       "<matplotlib.image.AxesImage at 0x106e4e9e8>"
      ]
     },
     "execution_count": 8,
     "metadata": {},
     "output_type": "execute_result"
    },
    {
     "data": {
      "image/png": "[encoded data removed]",
      "text/plain": [
       "<Figure size 432x288 with 1 Axes>"
      ]
     },
     "metadata": {
      "needs_background": "light"
     },
     "output_type": "display_data"
    }
   ],
   "source": [
    "max_width = 200\n",
    "max_height = 100\n",
    "\n",
    "im = Image.new(\"RGB\",(max_width,max_height),\"white\")\n",
    "draw = ImageDraw.Draw(im)\n",
    "\n",
    "plt.imshow(im)"
   ]
  },
  {
   "cell_type": "markdown",
   "metadata": {},
   "source": [
    " | Name | Units | Description |\n",
    " |------|-------|-------------|\n",
    " | r_tube_In | m | Inner radius of sillicone tube |\n",
    " | r_tube_thick | m | Thickness of sillicone tube |\n",
    " | r_tube_Out | m | Outer radius of sillicone tube |\n",
    " | l_core | m | Length of motor core |\n",
    " | Br_core | T | Residual magnetic field stength of core |\n",
    " | r_core | m | Radius of motor core |\n",
    " | rho_wire | S/m | Resistivity of wire |\n",
    " | V_max | V | Max voltage output of power supply |\n",
    " | I_max | A | Max current output of power supply |\n",
    " | l_max_tube | m | How much tube I have |\n",
    " | l_connector | m | How much magnetic connector at the end of the magnet |\n",
    " | l_plunger | m | Length of plunger connector |\n",
    " | thickness_shell | m | Thickness of iron shell |\n",
    " | distance_rg2 | m | Distance between plunger and shell |\n",
    " |turns_in_field | #NA# | Turns of wire in field |\n",
    " |turns_total | #NA# | Turns of wire total |\n",
    " | A_cross_magnet | m^2 | Cross sectional area of the magnet |\n",
    " | flux_rg0 | Wb | Magnetic flux of magnet with magnet only |\n",
    " | rM_m | H^-1 | Reluctance across magnet |\n",
    " | emmf | #NA# | Electromagneticmotive force |\n",
    " | layer | #NA# | The layer of wire in this calculation |\n",
    " | r_shell_in | m | Inner shell diameter |\n",
    " | r_shell_out | m | Outer shell diameter |\n",
    " | r_plunger | m | Plunger diameter |\n",
    " | rM_g1 | H^-1 | Gap1 (coil driving) reluctance |\n",
    " | rM_g2 | H^-1 | Gap2 (plunger) reluctance |\n",
    " | rM_ttl | H^-1 | Total reluctance |\n",
    " | flux_w_gap | Wb | Magnetic flux in circuit with gaps |\n",
    " | r_at_wire | m | radius of wire layer |\n",
    " | l_in_field_this | m | Length of wire in magnetic field in this layer |\n",
    " | l_this | m | Length of wire in this layer |\n",
    " | R_this | Ohm | Wire resistance this layer |\n",
    " | V_this | V | Voltage required this layer |\n",
    " | A_field_action | m^2 | Area of wire the field acts on |\n",
    " | field_over_gap | m | Magnetic field over Gap1 (coil driving) |\n",
    " | force | m | Force generated |"
   ]
  }
 ],
 "metadata": {
  "file_extension": ".py",
  "kernelspec": {
   "display_name": "Python 3",
   "language": "python",
   "name": "python3"
  },
  "mimetype": "text/x-python",
  "name": "python",
  "npconvert_exporter": "python",
  "pygments_lexer": "ipython3",
  "varInspector": {
   "cols": {
    "lenName": 16,
    "lenType": 16,
    "lenVar": 40
   },
   "kernels_config": {
    "python": {
     "delete_cmd_postfix": "",
     "delete_cmd_prefix": "del ",
     "library": "var_list.py",
     "varRefreshCmd": "print(var_dic_list())"
    },
    "r": {
     "delete_cmd_postfix": ") ",
     "delete_cmd_prefix": "rm(",
     "library": "var_list.r",
     "varRefreshCmd": "cat(var_dic_list()) "
    }
   },
   "position": {
    "height": "949.85px",
    "left": "1468px",
    "right": "20px",
    "top": "26px",
    "width": "392px"
   },
   "types_to_exclude": [
    "module",
    "function",
    "builtin_function_or_method",
    "instance",
    "_Feature"
   ],
   "window_display": true
  },
  "version": 3
 },
 "nbformat": 4,
 "nbformat_minor": 2
}
