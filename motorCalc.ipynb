{
 "cells": [
  {
   "cell_type": "markdown",
   "metadata": {},
   "source": [
    " # Jason's honours project code\n",
    " ## Motor optimisation part"
   ]
  },
  {
   "cell_type": "code",
   "execution_count": 1,
   "metadata": {
    "ExecuteTime": {
     "end_time": "2019-06-10T08:51:20.402700Z",
     "start_time": "2019-06-10T08:51:16.632310Z"
    }
   },
   "outputs": [],
   "source": [
    "import numpy as np"
   ]
  },
  {
   "cell_type": "markdown",
   "metadata": {},
   "source": [
    " | Name | Units | Description |\n",
    " |------|-------|-------------|\n",
    " | r_tube_In | m | Inner radius of sillicone tube |\n",
    " | r_tube_Out | m | Outer radius of sillicone tube |\n",
    " | l_core | m | Length of motor core |\n",
    " | Br_core | T | Residual magnetic field stength of core |\n",
    " | r_core | m | Radius of motor core |\n",
    " | rho_wire | S/m | Resistivity of wire |\n",
    " | V_max | V | Max voltage output of power supply |\n",
    " | I_max | A | Max current output of power supply |\n",
    " | l_max_tube | m | How much tube I have |\n",
    " | l_connector | m | How much magnetic connector at the end of the magnet |\n",
    " | l_plunger | m | Length of plunger connector |\n",
    " | thickness_shell | m | Thickness of iron shell |\n",
    " | distance_rg2 | m | Distance between plunger and shell |"
   ]
  },
  {
   "cell_type": "code",
   "execution_count": 2,
   "metadata": {
    "ExecuteTime": {
     "end_time": "2019-06-10T07:07:38.656119Z",
     "start_time": "2019-06-10T07:07:38.641522Z"
    }
   },
   "outputs": [],
   "source": [
    "r_tube_in = 0.25e-3\n",
    "r_tube_out = 1.05e-3\n",
    "l_core = 80e-3\n",
    "Br_core = 1.2\n",
    "r_core = 2.175e-3\n",
    "rho_wire = 2.3e6\n",
    "V_max = 12\n",
    "I_max = 2\n",
    "l_max_tube = 4.5\n",
    "l_connector = 0.0042\n",
    "l_plunger = 0.005\n",
    "thickness_shell = 0.002\n",
    "distance_rg2 = 0.001"
   ]
  },
  {
   "cell_type": "markdown",
   "metadata": {},
   "source": [
    " |Name|Description|\n",
    " |----|-----------|\n",
    " |turns_in_field|Turns of wire in field\n",
    " |turns_total|Turns of wire total"
   ]
  },
  {
   "cell_type": "code",
   "execution_count": 3,
   "metadata": {
    "ExecuteTime": {
     "end_time": "2019-06-10T07:07:38.867159Z",
     "start_time": "2019-06-10T07:07:38.691108Z"
    }
   },
   "outputs": [],
   "source": [
    "turns_in_field = l_connector/(r_tube_out*2)\n",
    "turns_total = np.floor((l_core+l_connector)/(2*r_tube_out))"
   ]
  },
  {
   "cell_type": "markdown",
   "metadata": {},
   "source": [
    " | Name | Units | Description |\n",
    " |------|-------|-------------|\n",
    " | A_cross_magnet | m^2 | Cross sectional area of the magnet |\n",
    " | flux_rg0 | Wb | Magnetic flux of magnet with magnet only |\n",
    " | rM_m | H^-1 | Reluctance across magnet |\n",
    " | emmf | #NA# | Electromagneticmotive force|"
   ]
  },
  {
   "cell_type": "code",
   "execution_count": 5,
   "metadata": {
    "ExecuteTime": {
     "end_time": "2019-06-10T07:07:46.187072Z",
     "start_time": "2019-06-10T07:07:46.153920Z"
    }
   },
   "outputs": [],
   "source": [
    "A_cross_magnet = np.pi*r_core**2\n",
    "\n",
    "flux_rg0 = A_cross_magnet * Br_core\n",
    "\n",
    "# H^-1 Longer the magnet, larger the Rm?\n",
    "rM_m = l_core/A_cross_magnet\n",
    "emmf = flux_rg0 * rM_m\n"
   ]
  },
  {
   "cell_type": "markdown",
   "metadata": {},
   "source": [
    " | Name | Units | Description |\n",
    " |------|-------|-------------|\n",
    " | layer | #NA# | The layer of wire in this calculation |\n",
    " | r_shell_in | m | Inner shell diameter |\n",
    " | r_shell_out | m | Outer shell diameter |\n",
    " | r_plunger | m | Plunger diameter |\n",
    " | rM_g1 | H^-1 | Gap1 (coil driving) reluctance |\n",
    " | rM_g2 | H^-1 | Gap2 (plunger) reluctance |\n",
    " | rM_ttl | H^-1 | Total reluctance |\n",
    " | flux_w_gap | Wb | Magnetic flux in circuit with gaps |\n",
    " | r_at_wire | m | radius of wire layer |\n",
    " | l_in_field_this | m | Length of wire in magnetic field in this layer |\n",
    " | l_this | m | Length of wire in this layer |\n",
    " | R_this | Ohm | Wire resistance this layer |\n",
    " | V_this | V | Voltage required this layer |\n",
    " | A_field_action | m^2 | Area of wire the field acts on |\n",
    " | field_over_gap | m | Magnetic field over Gap1 (coil driving) |\n",
    " | force | m | Force generated |"
   ]
  },
  {
   "cell_type": "code",
   "execution_count": 6,
   "metadata": {
    "ExecuteTime": {
     "end_time": "2019-06-10T07:07:47.040634Z",
     "start_time": "2019-06-10T07:07:46.965582Z"
    }
   },
   "outputs": [],
   "source": [
    "layer = 1\n",
    "r_shell_in = r_core+r_tube_out*layer\n",
    "r_shell_out = r_shell_in + thickness_shell\n",
    "r_plunger = r_shell_in - distance_rg2\n",
    "# Rg1 increases as gap increases? This isn't right will revisit\n",
    "rM_g1 = np.log(r_shell_in/r_core)/(2*np.pi*l_connector)\n",
    "rM_g2 = np.log(r_shell_in/r_plunger)/(2*np.pi*l_plunger)\n",
    "rM_ttl = rM_m+rM_g1+rM_g2\n",
    "flux_w_gap = emmf / rM_ttl\n",
    "r_at_wire = r_shell_out - r_tube_out/2   \n",
    "l_in_field_this = np.pi*(r_core+layer*r_tube_out*2)*2*turns_in_field \n",
    "l_this = np.pi*(r_core+layer*r_tube_out*2)*2*turns_total\n",
    "R_this = l_this/(np.pi*r_tube_in**2)/rho_wire\n",
    "V_this = R_this * I_max\n",
    "A_field_action = 2*np.pi*r_at_wire*l_connector\n",
    "field_over_gap = flux_w_gap/A_field_action\n",
    "force = field_over_gap*I_max*l_in_field_this"
   ]
  },
  {
   "cell_type": "code",
   "execution_count": null,
   "metadata": {},
   "outputs": [],
   "source": []
  }
 ],
 "metadata": {
  "file_extension": ".py",
  "kernelspec": {
   "display_name": "Python 3",
   "language": "python",
   "name": "python3"
  },
  "language_info": {
   "codemirror_mode": {
    "name": "ipython",
    "version": 3
   },
   "file_extension": ".py",
   "mimetype": "text/x-python",
   "name": "python",
   "nbconvert_exporter": "python",
   "pygments_lexer": "ipython3",
   "version": "3.7.3"
  },
  "mimetype": "text/x-python",
  "name": "python",
  "npconvert_exporter": "python",
  "pygments_lexer": "ipython3",
  "version": 3
 },
 "nbformat": 4,
 "nbformat_minor": 2
}
