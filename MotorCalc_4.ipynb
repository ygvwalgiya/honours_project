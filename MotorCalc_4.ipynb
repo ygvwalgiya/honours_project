{
 "cells": [
  {
   "cell_type": "markdown",
   "metadata": {},
   "source": [
    "# Jason's Honours Project\n",
    "## Take 3\n",
    "Attempt to optimise with cooling"
   ]
  },
  {
   "cell_type": "code",
   "execution_count": 1,
   "metadata": {
    "ExecuteTime": {
     "end_time": "2019-07-03T21:42:55.810584Z",
     "start_time": "2019-07-03T21:42:54.450065Z"
    }
   },
   "outputs": [],
   "source": [
    "# Libraries\n",
    "import numpy as np\n",
    "from scipy.constants import mu_0\n",
    "from ipywidgets import interact, interactive, fixed, interact_manual\n",
    "import ipywidgets as widgets\n",
    "from PIL import Image, ImageDraw, ImageColor\n",
    "import matplotlib.pyplot as plt"
   ]
  },
  {
   "cell_type": "code",
   "execution_count": 12,
   "metadata": {
    "ExecuteTime": {
     "end_time": "2019-07-03T21:56:17.308088Z",
     "start_time": "2019-07-03T21:56:17.304921Z"
    }
   },
   "outputs": [],
   "source": [
    "# Relative constants\n",
    "# Things that aren't easily changed\n",
    "BR_CORE = 1.2\n",
    "SIGMA_WIRE = 2.3e6\n",
    "V_MAX = 12\n",
    "L_TUBE_MAX = 4.5\n",
    "L_PLUNGER = 0.005\n",
    "THICKNESS_SHELL = 0.0025\n",
    "DISTANCE_RG2 = 0.001\n",
    "REL_PERM_STEEL = 2000\n",
    "REL_PERM_NEO = 1.05\n",
    "REL_PERM_AIR = 1\n",
    "\n",
    "# Physical dimensions that can be calculated directly from known\n",
    "R_SHELL_IN = r_core+r_tube_out*layers+extra_gap\n",
    "R_SHELL_OUT = r_shell_in + thickness_shell\n",
    "R_PLUNGER = r_shell_in - distance_rg2\n",
    "\n",
    "# Turns of wire - same regardless of layer\n",
    "TURNS_IN_FIELD= l_connector/(r_tube_out*2)\n",
    "TURNS_TOTAL = np.floor((l_core+l_connector)/(2*r_tube_out))"
   ]
  },
  {
   "cell_type": "markdown",
   "metadata": {},
   "source": [
    "$ I[(\\pi r_{wireIn}^2 l_{wireTotal}\\rho)^2 - \\frac{B_r l_{core}}{(\\frac{ln(\\frac{r_{shellIn}}{r_{core}})}{2\\pi l_{connect} }+\\frac{ln(\\frac{r_{shellIn}}{r_{plunger}})}{2\\pi l_{plunger}}) 2\\pi(r_{core}+r_{tubeOut}(2layers-l_{connector})}\\cdot l_{wireInField}d_{drive}F_{motor}]=\\rho Qc_p \\Delta T$\n",
    "\n",
    "Need to optimise for:\n",
    "1. Given force ($ F_{motor} $) and drive distance ($ d_{drive} $)\n",
    "2. Maximum temperature change ($ \\Delta T $)\n",
    "3. Maximum volume of liquid metal in circuit ($ A_{wire} l_{wireTotal} $)\n",
    "4. ? Maximum shell dimensions ($ r_{shellIn} $)\n",
    "5. Given magnet strength ($ B_r $)\n",
    "6. Drive distance doesn't exceed motor dimensions ($ d_{drive}  < \\frac{l_{wireTotal} - l_{wireInField}}{2\\pi r_{shellIn}} $)\n",
    "7. Inner motor parts don't exceed outer motor parts ($ r_{shellIn} >  r_{plunger}$, $ r_{shellIn} > r_{core}$)\n",
    "8. Enough space for wires within motor ($ 2r_{tubeOut} \\cdot layers < r_{shellIn} - r_{core}$)\n",
    "9. Layers is an integer\n",
    "10. Total length of wire is larger than wire in field ($ l_{wireTotal} > l_{wireInField} $)\n",
    "11. Length of total wire fills a whole layer ($ l_{wireTotal} = layers \\cdot $ NOTE TO SELF WORK THIS OUT)\n",
    "12. Minimum wire wall thickness ($ r_{wireOut} - r_{wireIn} > 0.5 $)"
   ]
  },
  {
   "cell_type": "code",
   "execution_count": null,
   "metadata": {},
   "outputs": [],
   "source": []
  },
  {
   "cell_type": "code",
   "execution_count": null,
   "metadata": {},
   "outputs": [],
   "source": [
    "# Graphing"
   ]
  }
 ],
 "metadata": {
  "kernelspec": {
   "display_name": "Python 3",
   "language": "python",
   "name": "python3"
  },
  "language_info": {
   "codemirror_mode": {
    "name": "ipython",
    "version": 2
   },
   "file_extension": ".py",
   "mimetype": "text/x-python",
   "name": "python",
   "nbconvert_exporter": "python",
   "pygments_lexer": "ipython2",
   "version": "2.7.16"
  },
  "varInspector": {
   "cols": {
    "lenName": 16,
    "lenType": 16,
    "lenVar": 40
   },
   "kernels_config": {
    "python": {
     "delete_cmd_postfix": "",
     "delete_cmd_prefix": "del ",
     "library": "var_list.py",
     "varRefreshCmd": "print(var_dic_list())"
    },
    "r": {
     "delete_cmd_postfix": ") ",
     "delete_cmd_prefix": "rm(",
     "library": "var_list.r",
     "varRefreshCmd": "cat(var_dic_list()) "
    }
   },
   "types_to_exclude": [
    "module",
    "function",
    "builtin_function_or_method",
    "instance",
    "_Feature"
   ],
   "window_display": false
  }
 },
 "nbformat": 4,
 "nbformat_minor": 2
}
