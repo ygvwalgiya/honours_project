{
 "cells": [
  {
   "cell_type": "markdown",
   "metadata": {},
   "source": [
    "# Jason's Honours Project\n",
    "## Take 4\n",
    "Attempt to optimise with cooling"
   ]
  },
  {
   "cell_type": "code",
   "execution_count": 1,
   "metadata": {
    "ExecuteTime": {
     "end_time": "2019-07-03T21:42:55.810584Z",
     "start_time": "2019-07-03T21:42:54.450065Z"
    }
   },
   "outputs": [],
   "source": [
    "# Libraries\n",
    "import numpy as np\n",
    "from scipy.constants import mu_0\n",
    "from ipywidgets import interact, interactive, fixed, interact_manual\n",
    "import ipywidgets as widgets\n",
    "from PIL import Image, ImageDraw, ImageColor\n",
    "import matplotlib.pyplot as plt\n",
    "from scipy.optimize import minimize, NonlinearConstraint, Bounds"
   ]
  },
  {
   "cell_type": "code",
   "execution_count": 12,
   "metadata": {
    "ExecuteTime": {
     "end_time": "2019-07-03T21:56:17.308088Z",
     "start_time": "2019-07-03T21:56:17.304921Z"
    }
   },
   "outputs": [],
   "source": [
    "# Relative constants\n",
    "# Things that aren't easily changed\n",
    "BR_CORE = 1.2\n",
    "SIGMA_WIRE = 2.3e6\n",
    "V_MAX = 12\n",
    "L_TUBE_MAX = 4.5\n",
    "L_PLUNGER = 0.005\n",
    "THICKNESS_SHELL = 0.0025\n",
    "DISTANCE_RG2 = 0.001\n",
    "REL_PERM_STEEL = 2000\n",
    "REL_PERM_NEO = 1.05\n",
    "REL_PERM_AIR = 1\n",
    "\n",
    "moe = 1e-6"
   ]
  },
  {
   "cell_type": "markdown",
   "metadata": {},
   "source": [
    "$r_{shellIn} = r_{core}+r_{wireOut}\\cdot layers$ Shell inner radius\n",
    "\n",
    "$\\Delta heat = \\rho c_p Q \\Delta T$ Heat power difference of liquid metal start and end of motor\n",
    "\n",
    "$R_{total} = (\\frac{l_{wireTotal}}{\\sigma \\pi {r_{wireIn}}^2})^2$\n",
    "\n",
    "$P_{mechanical} = 2d_{drive}F_{motor}f$\n",
    "\n",
    "$rg_1 = \\frac{ln(\\frac{r_{shellIn}}{r_{core}})}{2\\pi l_{connector}}$\n",
    "\n",
    "$rg_2 = \\frac{ln(\\frac{r_{shellIn}}{r_{plunger}})}{2\\pi l_{plunger}}$\n",
    "\n",
    "$rm_{ttl} = rg_1 + rg_2$\n",
    "\n",
    "$emmf = B_r * l_{core}$\n",
    "\n",
    "$\\phi = \\frac{emmf}{rm_{ttl}}$\n",
    "\n",
    "$A_{action} = 2\\pi l_{connector}(r_{core}+2layers\\cdot r_{wireOut}-r_{wireOut})$ \n",
    "\n",
    "$B = \\frac{\\phi}{A_{action}}$\n",
    "\n",
    "$ I=\\frac{\\Delta heat}{{R_{total}}^2 - B l_{wireInField}}$\n",
    "\n",
    "Optimise for minimum power ($I\\sqrt{\\frac{l_{wireTotal}}{\\pi r_{wireIn}^2 \\rho}}$):\n",
    "1. Given force ($ F_{motor} $), drive distance ($ d_{drive} $) and frequency ($f$) 9N - \n",
    "2. Given magnet strength ($ B_r $)\n",
    "3. Maximum volume of liquid metal in circuit ($ A_{wire} l_{wireTotal} $)\n",
    "4. Maximum shell dimensions ($ r_{shellIn} $)\n",
    "5. Maximum core length ($ l_{core} $)\n",
    "6. Drive distance doesn't exceed motor dimensions ($ d_{drive}  < \\frac{l_{wireTotal} - l_{wireInField}}{2\\pi r_{shellIn}} $)\n",
    "7. Inner motor parts don't exceed outer motor parts ($ r_{shellIn} >  r_{plunger}$, $ r_{shellIn} > r_{core}$, $ r_{plunger} >= r_{core}$)\n",
    "8. Maximum temperature change ($ \\Delta T $)\n",
    "9. Total length of wire is larger than wire in field ($ l_{wireTotal} > l_{wireInField} $)\n",
    "10. Minimum wire wall thickness ($ r_{wireOut} - r_{wireIn} > 0.5 $)\n",
    "11. Length of total wire fills a whole layer ($ l_{wireTotal} = 2\\pi l_{core}(layers\\cdot r_{core}+r_{wireOut}\\frac{(1+layers)layers}{2}$)\n",
    "12. Layers is an integer\n",
    "\n",
    "Notes:\n",
    "- Q is given to Simran as 0.5 ml/s"
   ]
  },
  {
   "cell_type": "code",
   "execution_count": 4,
   "metadata": {
    "ExecuteTime": {
     "end_time": "2019-07-22T02:26:30.149453Z",
     "start_time": "2019-07-22T02:26:30.129537Z"
    }
   },
   "outputs": [],
   "source": [
    "def motorMain(x,rho,sigma,cp,dDrive,fMotor,freq,br):\n",
    "    lWireTotal = x[0]\n",
    "    lWireInField = x[1]\n",
    "    rWireIn = x[2]\n",
    "    rWireOut = x[3]\n",
    "    lCore = x[4]\n",
    "    rCore = x[5]\n",
    "    lConnector = x[6]\n",
    "    lPlunger = x[7]\n",
    "    rPlunger = x[8]\n",
    "    rShellIn = x[9]\n",
    "    layers = x[10]\n",
    "    Q = x[11]\n",
    "    deltaT = x[12]\n",
    "    \n",
    "    rShellIn = rCore+rWireOut*layers # Shell inner radius\n",
    "    \n",
    "    deltaHeat = rho*Q*cp*deltaT # Heat power difference of liquid metal start and end of motor\n",
    "    \n",
    "    rTotal = lWireTotal/np.pi/rWireIn**2/sigma # Total wire resistance\n",
    "    \n",
    "    pMechanical = 2*dDrive*fMotor*freq # Mechanical power output\n",
    "    \n",
    "    rg1 = np.log(rShellIn/rCore)/2*np.pi*lConnector\n",
    "    \n",
    "    rg2 = np.log(rShellIn/rPlunger)/2*np.pi*lPlunger\n",
    "    \n",
    "    rmTtl = rg1+rg2\n",
    "    \n",
    "    emmf = br*lCore\n",
    "    \n",
    "    flux = emmf / rmTtl\n",
    "    \n",
    "    area_action = 2*np.pi*lConnector*(rCore+2*layers*rWireOut-rWireOut)\n",
    "    \n",
    "    B = flux / area_action\n",
    "    \n",
    "    I = deltaHeat/(rTotal**2 - B*lWireInField)\n",
    "    \n",
    "    power = I * np.sqrt(lWireTotal/(np.pi*rho*rWireIn**2))\n",
    "                         \n",
    "    return power"
   ]
  },
  {
   "cell_type": "code",
   "execution_count": null,
   "metadata": {},
   "outputs": [],
   "source": [
    "def constraintsFun(x):\n",
    "    l = []\n",
    "    # 3. Maximum volume of liquid metal in circuit ($ A_{wire} l_{wireTotal} $)\n",
    "    aWire = rWireIn**2*np.pi\n",
    "    l.append(aWire*lWireTotal)\n",
    "    \n",
    "    # 4. Maximum shell dimensions ($ r_{shellIn} $)\n",
    "    l.append(rShellIn)\n",
    "    \n",
    "    # 5. Maximum core length ($ l_{core} $)\n",
    "    l.append(lCore)\n",
    "    \n",
    "    # 6. Drive distance doesn't exceed motor dimensions ($ d_{drive}  < \\frac{l_{wireTotal} - l_{wireInField}}{2\\pi r_{shellIn}} $)\n",
    "    drive_distance_dimension_check = (lWireTotal-lWireInField)/(2*np.pi*rShellIn)\n",
    "    l.append(drive_distance_diemsnion_check)\n",
    "    # This needs to be less than dDrive\n",
    "    \n",
    "    #7. Inner motor parts don't exceed outer motor parts ($ r_{shellIn} >  r_{plunger}$, $ r_{shellIn} > r_{core}$, $ r_{plunger} >= r_{core}$)\n",
    "    plunger_dimension_check = rShellIn-rPlunger\n",
    "    core_dimension_check = rShellIn-rCore\n",
    "    plunger_core_dimension_check = rPlunger-rCore\n",
    "    # All three need to be larger than 0\n",
    "    \n",
    "    l.append(plunger_dimension_check)\n",
    "    l.append(core_dimension_check)\n",
    "    l.append(plunger_core_dimension_check)\n",
    "    \n",
    "    #8. Maximum temperature change ($ \\Delta T $)\n",
    "    # Needs to be larger than value\n",
    "    l.append(deltaT)\n",
    "    \n",
    "    #9. Total length of wire is larger than wire in field ($ l_{wireTotal} > l_{wireInField} $)\n",
    "    # Needs to be larger than 0\n",
    "    wire_length_check = lWireTotal - lWireInField\n",
    "    l.append(wire_length_check)\n",
    "    \n",
    "    #10. Minimum wire wall thickness ($ r_{wireOut} - r_{wireIn} > 0.5 $)\n",
    "    # Needs to be larger than value\n",
    "    wall_thickness_check = rWireOut - rWireIn\n",
    "    l.append(wall_thickness_check)\n",
    "    \n",
    "    #11. Length of total wire fills a whole layer ($ l_{wireTotal} = 2\\pi l_{core}(layers\\cdot r_{core}+r_{wireOut}\\frac{(1+layers)layers}{2}$)\n",
    "    # Needs to be 0\n",
    "    whole_layer_check = lWireTotal - 2*np.pi*lCore*layers*(rCore+rWireOut*(1+layers)/2)\n",
    "    l.append(whole_layer_check)\n",
    "    \n",
    "    #12. Layers is an integer\n",
    "    # if integer, =1, else =0\n",
    "    # needs to be 1\n",
    "    if np.abs(int(layers) - layers) > moe:\n",
    "        l.append(0)\n",
    "    else:\n",
    "        l.append(1)"
   ]
  },
  {
   "cell_type": "markdown",
   "metadata": {},
   "source": [
    "| x | Name | Units | Description |\n",
    "| - |------|-------|-------------|\n",
    "| 0 | lWireTotal | m | Total length of silicone tube |\n",
    "| 1 | lWireInField | m | Length of silicone tube in field |\n",
    "| 2 | rWireIn | m | Inner radius of silicone tube |\n",
    "| 3 | rWireOut | m | Outer radius of silicone tube |\n",
    "| 4 | lCore | m | Length of motor core |\n",
    "| 5 | rCore | m | Radius of motor core |\n",
    "| 6 | lConnector | m | How much magnetic connector at the end of the magnet |\n",
    "| 7 | lPlunger | m | Length of plunger connector |\n",
    "| 8 | rPlunger | m | Plunger diameter |\n",
    "| 9 | layers | #NA# | Number of layers of wire |\n",
    "| 10 | Q | m^3/s | Flow rate of liquid metal |\n",
    "| 11 | deltaT | degC | Change in temperature of liquid metal before and after motor |"
   ]
  },
  {
   "cell_type": "code",
   "execution_count": 1,
   "metadata": {
    "ExecuteTime": {
     "end_time": "2019-07-22T01:44:08.154665Z",
     "start_time": "2019-07-22T01:44:08.093673Z"
    }
   },
   "outputs": [],
   "source": [
    "# Graphing"
   ]
  },
  {
   "cell_type": "code",
   "execution_count": null,
   "metadata": {},
   "outputs": [],
   "source": []
  }
 ],
 "metadata": {
  "kernelspec": {
   "display_name": "Python 3",
   "language": "python",
   "name": "python3"
  },
  "language_info": {
   "codemirror_mode": {
    "name": "ipython",
    "version": 3
   },
   "file_extension": ".py",
   "mimetype": "text/x-python",
   "name": "python",
   "nbconvert_exporter": "python",
   "pygments_lexer": "ipython3",
   "version": "3.7.3"
  },
  "varInspector": {
   "cols": {
    "lenName": 16,
    "lenType": 16,
    "lenVar": 40
   },
   "kernels_config": {
    "python": {
     "delete_cmd_postfix": "",
     "delete_cmd_prefix": "del ",
     "library": "var_list.py",
     "varRefreshCmd": "print(var_dic_list())"
    },
    "r": {
     "delete_cmd_postfix": ") ",
     "delete_cmd_prefix": "rm(",
     "library": "var_list.r",
     "varRefreshCmd": "cat(var_dic_list()) "
    }
   },
   "types_to_exclude": [
    "module",
    "function",
    "builtin_function_or_method",
    "instance",
    "_Feature"
   ],
   "window_display": false
  }
 },
 "nbformat": 4,
 "nbformat_minor": 2
}
