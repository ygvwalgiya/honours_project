{
 "cells": [
  {
   "cell_type": "markdown",
   "metadata": {},
   "source": [
    "# Jason's Honours Project\n",
    "## Take 3\n",
    "Attempt to optimise with cooling"
   ]
  },
  {
   "cell_type": "code",
   "execution_count": 1,
   "metadata": {
    "ExecuteTime": {
     "end_time": "2019-07-03T21:42:55.810584Z",
     "start_time": "2019-07-03T21:42:54.450065Z"
    }
   },
   "outputs": [],
   "source": [
    "# Libraries\n",
    "import numpy as np\n",
    "from scipy.constants import mu_0\n",
    "from ipywidgets import interact, interactive, fixed, interact_manual\n",
    "import ipywidgets as widgets\n",
    "from PIL import Image, ImageDraw, ImageColor\n",
    "import matplotlib.pyplot as plt"
   ]
  },
  {
   "cell_type": "code",
   "execution_count": 12,
   "metadata": {
    "ExecuteTime": {
     "end_time": "2019-07-03T21:56:17.308088Z",
     "start_time": "2019-07-03T21:56:17.304921Z"
    }
   },
   "outputs": [],
   "source": [
    "# Relative constants\n",
    "# Things that aren't easily changed\n",
    "BR_CORE = 1.2\n",
    "SIGMA_WIRE = 2.3e6\n",
    "V_MAX = 12\n",
    "L_TUBE_MAX = 4.5\n",
    "L_PLUNGER = 0.005\n",
    "THICKNESS_SHELL = 0.0025\n",
    "DISTANCE_RG2 = 0.001\n",
    "REL_PERM_STEEL = 2000\n",
    "REL_PERM_NEO = 1.05\n",
    "REL_PERM_AIR = 1\n",
    "\n",
    "# Physical dimensions that can be calculated directly from known\n",
    "R_SHELL_IN = r_core+r_tube_out*layers+extra_gap\n",
    "R_SHELL_OUT = r_shell_in + thickness_shell\n",
    "R_PLUNGER = r_shell_in - distance_rg2\n",
    "\n",
    "# Turns of wire - same regardless of layer\n",
    "TURNS_IN_FIELD= l_connector/(r_tube_out*2)\n",
    "TURNS_TOTAL = np.floor((l_core+l_connector)/(2*r_tube_out))"
   ]
  },
  {
   "cell_type": "code",
   "execution_count": 9,
   "metadata": {
    "ExecuteTime": {
     "end_time": "2019-07-03T21:46:52.930143Z",
     "start_time": "2019-07-03T21:46:52.928223Z"
    }
   },
   "outputs": [],
   "source": [
    "# Power and force\n",
    "# NOT DONE\n",
    "def power_force(layers_i, r_core_f, r_tube_out_f, r_tube_in_f, l_connector_f, flux_w_gap_f, A_field_action_f):\n",
    "    \n",
    "    # Loop through every layer\n",
    "    R_ttl = 0\n",
    "    V_ttl = 0\n",
    "    force_ttl = 0\n",
    "    l_ttl = 0\n",
    "    \n",
    "    for layer in range(1,layers_i+1):\n",
    "        # length of wire in this layer + in this layer & in field\n",
    "        l_in_field_this = np.pi*(r_core+layer*r_tube_out*2)*2*TURNS_IN_FIELD\n",
    "        l_this = np.pi*(r_core+layer*r_tube_out*2)*2*TURNS_TOTAL\n",
    "        l_ttl += l_this\n",
    "        \n",
    "        # Resistance from powering wires in this layer\n",
    "        R_this = l_this/(np.pi*r_tube_in**2)/SIGMA_WIRE\n",
    "        R_ttl += R_this\n",
    "\n",
    "        # Area over which the flux will be spread, at the distance of this layer\n",
    "        r_at_wire = r_core + layer*2*r_tube_out - r_tube_out\n",
    "        A_field_action = 2*np.pi*r_at_wire*l_connector\n",
    "        \n",
    "        # Field acting on this layer of wire\n",
    "        field_over_gap = flux_w_gap/A_field_action\n",
    "        \n",
    "        # motor constant \n",
    "        motor_c_this = field_over_gap*l_in_field_this\n",
    "        motor_c_total += motor_c_this\n",
    "\n",
    "    print(\"Total length of tube: {} m\".format(l_ttl))\n",
    "    \n",
    "    return R_ttl, motor_c_total"
   ]
  },
  {
   "cell_type": "code",
   "execution_count": null,
   "metadata": {},
   "outputs": [],
   "source": [
    "# Heat calculations\n",
    "def flow_required(Pm_f, Pe_f, Tin_f, Tout_f, rho_f, Cp_f):\n",
    "    Q = (Pm_f - Pe_f) / ((Tin_f-Tout_f)*rho_f*Cp_f)\n",
    "    return Q"
   ]
  },
  {
   "cell_type": "code",
   "execution_count": 11,
   "metadata": {
    "ExecuteTime": {
     "end_time": "2019-07-03T21:47:29.314507Z",
     "start_time": "2019-07-03T21:47:29.311436Z"
    }
   },
   "outputs": [],
   "source": [
    "# Sketching\n",
    "    max_width = 200\n",
    "    max_height = 100\n",
    "\n",
    "    x0=0\n",
    "    y0=0\n",
    "    x1=100\n",
    "    y1=100\n",
    "\n",
    "    im = Image.new(\"RGB\",(max_width,max_height),\"white\")\n",
    "    draw = ImageDraw.Draw(im)\n",
    "    shell = draw.rectangle([(x0, y0), (x1, y1)],fill=\"black\")\n",
    "\n",
    "    plt.grid(True,\"major\",\"both\")\n",
    "    plt.imshow(im)"
   ]
  },
  {
   "cell_type": "code",
   "execution_count": null,
   "metadata": {},
   "outputs": [],
   "source": [
    "# Optimisation\n",
    "def optimise_motor():"
   ]
  },
  {
   "cell_type": "code",
   "execution_count": null,
   "metadata": {},
   "outputs": [],
   "source": [
    "# Graphing"
   ]
  }
 ],
 "metadata": {
  "kernelspec": {
   "display_name": "Python 3",
   "language": "python",
   "name": "python3"
  },
  "language_info": {
   "codemirror_mode": {
    "name": "ipython",
    "version": 2
   },
   "file_extension": ".py",
   "mimetype": "text/x-python",
   "name": "python",
   "nbconvert_exporter": "python",
   "pygments_lexer": "ipython2",
   "version": "2.7.16"
  },
  "varInspector": {
   "cols": {
    "lenName": 16,
    "lenType": 16,
    "lenVar": 40
   },
   "kernels_config": {
    "python": {
     "delete_cmd_postfix": "",
     "delete_cmd_prefix": "del ",
     "library": "var_list.py",
     "varRefreshCmd": "print(var_dic_list())"
    },
    "r": {
     "delete_cmd_postfix": ") ",
     "delete_cmd_prefix": "rm(",
     "library": "var_list.r",
     "varRefreshCmd": "cat(var_dic_list()) "
    }
   },
   "types_to_exclude": [
    "module",
    "function",
    "builtin_function_or_method",
    "instance",
    "_Feature"
   ],
   "window_display": false
  }
 },
 "nbformat": 4,
 "nbformat_minor": 2
}
